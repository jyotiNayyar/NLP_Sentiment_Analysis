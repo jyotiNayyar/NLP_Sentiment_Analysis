{
 "cells": [
  {
   "cell_type": "code",
   "execution_count": 1,
   "metadata": {},
   "outputs": [
    {
     "name": "stderr",
     "output_type": "stream",
     "text": [
      "[nltk_data] Downloading package omw-1.4 to\n",
      "[nltk_data]     /Users/jyotidevenda/nltk_data...\n",
      "[nltk_data]   Package omw-1.4 is already up-to-date!\n",
      "[nltk_data] Downloading package stopwords to\n",
      "[nltk_data]     /Users/jyotidevenda/nltk_data...\n",
      "[nltk_data]   Package stopwords is already up-to-date!\n",
      "[nltk_data] Downloading package wordnet to\n",
      "[nltk_data]     /Users/jyotidevenda/nltk_data...\n",
      "[nltk_data]   Package wordnet is already up-to-date!\n",
      "[nltk_data] Downloading package punkt to\n",
      "[nltk_data]     /Users/jyotidevenda/nltk_data...\n",
      "[nltk_data]   Package punkt is already up-to-date!\n",
      "[nltk_data] Downloading package words to\n",
      "[nltk_data]     /Users/jyotidevenda/nltk_data...\n",
      "[nltk_data]   Package words is already up-to-date!\n",
      "[nltk_data] Downloading package averaged_perceptron_tagger to\n",
      "[nltk_data]     /Users/jyotidevenda/nltk_data...\n",
      "[nltk_data]   Package averaged_perceptron_tagger is already up-to-\n",
      "[nltk_data]       date!\n"
     ]
    }
   ],
   "source": [
    "import os, json, gzip \n",
    "import pandas as pd\n",
    "import numpy as np\n",
    "import matplotlib.pyplot as plt\n",
    "import seaborn as sns\n",
    "import warnings\n",
    "\n",
    "import string\n",
    "import nltk\n",
    "nltk.download('omw-1.4')\n",
    "nltk.download('stopwords')\n",
    "nltk.download('wordnet')\n",
    "nltk.download('punkt')\n",
    "nltk.download('words')\n",
    "nltk.download('averaged_perceptron_tagger')\n",
    "from nltk.corpus import wordnet, stopwords\n",
    "stop_words = stopwords.words(\"english\")\n",
    "\n",
    "from sklearn.model_selection import train_test_split, GridSearchCV\n",
    "from sklearn.pipeline import Pipeline\n",
    "from sklearn.feature_extraction.text import CountVectorizer, TfidfTransformer, TfidfVectorizer\n",
    "from sklearn.metrics import classification_report, confusion_matrix, accuracy_score, f1_score\n",
    "from sklearn.naive_bayes import MultinomialNB\n",
    "from sklearn.linear_model import SGDClassifier\n",
    "from sklearn.linear_model import LogisticRegression\n",
    "\n",
    "import itertools\n",
    "import matplotlib\n",
    "import matplotlib.pyplot as plt\n",
    "%matplotlib inline\n",
    "\n",
    "warnings.filterwarnings('ignore')\n",
    "warnings.simplefilter('ignore')"
   ]
  },
  {
   "cell_type": "code",
   "execution_count": 2,
   "metadata": {},
   "outputs": [],
   "source": [
    "data = pd.read_csv('amazon_reviews_us_Video_Games_v1_00.tsv',sep='\\t',on_bad_lines='skip')"
   ]
  },
  {
   "cell_type": "code",
   "execution_count": 3,
   "metadata": {},
   "outputs": [
    {
     "name": "stdout",
     "output_type": "stream",
     "text": [
      "<class 'pandas.core.frame.DataFrame'>\n",
      "RangeIndex: 1780268 entries, 0 to 1780267\n",
      "Data columns (total 15 columns):\n",
      " #   Column             Dtype \n",
      "---  ------             ----- \n",
      " 0   marketplace        object\n",
      " 1   customer_id        int64 \n",
      " 2   review_id          object\n",
      " 3   product_id         object\n",
      " 4   product_parent     int64 \n",
      " 5   product_title      object\n",
      " 6   product_category   object\n",
      " 7   star_rating        int64 \n",
      " 8   helpful_votes      int64 \n",
      " 9   total_votes        int64 \n",
      " 10  vine               object\n",
      " 11  verified_purchase  object\n",
      " 12  review_headline    object\n",
      " 13  review_body        object\n",
      " 14  review_date        object\n",
      "dtypes: int64(5), object(10)\n",
      "memory usage: 203.7+ MB\n"
     ]
    }
   ],
   "source": [
    "data.info()"
   ]
  },
  {
   "cell_type": "code",
   "execution_count": 4,
   "metadata": {},
   "outputs": [
    {
     "data": {
      "text/html": [
       "<div>\n",
       "<style scoped>\n",
       "    .dataframe tbody tr th:only-of-type {\n",
       "        vertical-align: middle;\n",
       "    }\n",
       "\n",
       "    .dataframe tbody tr th {\n",
       "        vertical-align: top;\n",
       "    }\n",
       "\n",
       "    .dataframe thead th {\n",
       "        text-align: right;\n",
       "    }\n",
       "</style>\n",
       "<table border=\"1\" class=\"dataframe\">\n",
       "  <thead>\n",
       "    <tr style=\"text-align: right;\">\n",
       "      <th></th>\n",
       "      <th>marketplace</th>\n",
       "      <th>customer_id</th>\n",
       "      <th>review_id</th>\n",
       "      <th>product_id</th>\n",
       "      <th>product_parent</th>\n",
       "      <th>product_title</th>\n",
       "      <th>product_category</th>\n",
       "      <th>star_rating</th>\n",
       "      <th>helpful_votes</th>\n",
       "      <th>total_votes</th>\n",
       "      <th>vine</th>\n",
       "      <th>verified_purchase</th>\n",
       "      <th>review_headline</th>\n",
       "      <th>review_body</th>\n",
       "      <th>review_date</th>\n",
       "    </tr>\n",
       "  </thead>\n",
       "  <tbody>\n",
       "    <tr>\n",
       "      <th>0</th>\n",
       "      <td>US</td>\n",
       "      <td>12039526</td>\n",
       "      <td>RTIS3L2M1F5SM</td>\n",
       "      <td>B001CXYMFS</td>\n",
       "      <td>737716809</td>\n",
       "      <td>Thrustmaster T-Flight Hotas X Flight Stick</td>\n",
       "      <td>Video Games</td>\n",
       "      <td>5</td>\n",
       "      <td>0</td>\n",
       "      <td>0</td>\n",
       "      <td>N</td>\n",
       "      <td>Y</td>\n",
       "      <td>an amazing joystick. I especially love that yo...</td>\n",
       "      <td>Used this for Elite Dangerous on my mac, an am...</td>\n",
       "      <td>2015-08-31</td>\n",
       "    </tr>\n",
       "    <tr>\n",
       "      <th>1</th>\n",
       "      <td>US</td>\n",
       "      <td>9636577</td>\n",
       "      <td>R1ZV7R40OLHKD</td>\n",
       "      <td>B00M920ND6</td>\n",
       "      <td>569686175</td>\n",
       "      <td>Tonsee 6 buttons Wireless Optical Silent Gamin...</td>\n",
       "      <td>Video Games</td>\n",
       "      <td>5</td>\n",
       "      <td>0</td>\n",
       "      <td>0</td>\n",
       "      <td>N</td>\n",
       "      <td>Y</td>\n",
       "      <td>Definitely a silent mouse... Not a single clic...</td>\n",
       "      <td>Loved it,  I didn't even realise it was a gami...</td>\n",
       "      <td>2015-08-31</td>\n",
       "    </tr>\n",
       "    <tr>\n",
       "      <th>2</th>\n",
       "      <td>US</td>\n",
       "      <td>2331478</td>\n",
       "      <td>R3BH071QLH8QMC</td>\n",
       "      <td>B0029CSOD2</td>\n",
       "      <td>98937668</td>\n",
       "      <td>Hidden Mysteries: Titanic Secrets of the Fatef...</td>\n",
       "      <td>Video Games</td>\n",
       "      <td>1</td>\n",
       "      <td>0</td>\n",
       "      <td>1</td>\n",
       "      <td>N</td>\n",
       "      <td>Y</td>\n",
       "      <td>One Star</td>\n",
       "      <td>poor quality work and not as it is advertised.</td>\n",
       "      <td>2015-08-31</td>\n",
       "    </tr>\n",
       "    <tr>\n",
       "      <th>3</th>\n",
       "      <td>US</td>\n",
       "      <td>52495923</td>\n",
       "      <td>R127K9NTSXA2YH</td>\n",
       "      <td>B00GOOSV98</td>\n",
       "      <td>23143350</td>\n",
       "      <td>GelTabz Performance Thumb Grips - PlayStation ...</td>\n",
       "      <td>Video Games</td>\n",
       "      <td>3</td>\n",
       "      <td>0</td>\n",
       "      <td>0</td>\n",
       "      <td>N</td>\n",
       "      <td>Y</td>\n",
       "      <td>good, but could be bettee</td>\n",
       "      <td>nice, but tend to slip away from stick in inte...</td>\n",
       "      <td>2015-08-31</td>\n",
       "    </tr>\n",
       "    <tr>\n",
       "      <th>4</th>\n",
       "      <td>US</td>\n",
       "      <td>14533949</td>\n",
       "      <td>R32ZWUXDJPW27Q</td>\n",
       "      <td>B00Y074JOM</td>\n",
       "      <td>821342511</td>\n",
       "      <td>Zero Suit Samus amiibo - Japan Import (Super S...</td>\n",
       "      <td>Video Games</td>\n",
       "      <td>4</td>\n",
       "      <td>0</td>\n",
       "      <td>0</td>\n",
       "      <td>N</td>\n",
       "      <td>Y</td>\n",
       "      <td>Great but flawed.</td>\n",
       "      <td>Great amiibo, great for collecting. Quality ma...</td>\n",
       "      <td>2015-08-31</td>\n",
       "    </tr>\n",
       "    <tr>\n",
       "      <th>5</th>\n",
       "      <td>US</td>\n",
       "      <td>2377552</td>\n",
       "      <td>R3AQQ4YUKJWBA6</td>\n",
       "      <td>B002UBI6W6</td>\n",
       "      <td>328764615</td>\n",
       "      <td>Psyclone Recharge Station for Nintendo Wii 4 P...</td>\n",
       "      <td>Video Games</td>\n",
       "      <td>1</td>\n",
       "      <td>0</td>\n",
       "      <td>0</td>\n",
       "      <td>N</td>\n",
       "      <td>Y</td>\n",
       "      <td>One Star</td>\n",
       "      <td>The remote constantly have to be adjusted in o...</td>\n",
       "      <td>2015-08-31</td>\n",
       "    </tr>\n",
       "    <tr>\n",
       "      <th>6</th>\n",
       "      <td>US</td>\n",
       "      <td>17521011</td>\n",
       "      <td>R2F0POU5K6F73F</td>\n",
       "      <td>B008XHCLFO</td>\n",
       "      <td>24234603</td>\n",
       "      <td>Protection for your 3DS XL</td>\n",
       "      <td>Video Games</td>\n",
       "      <td>5</td>\n",
       "      <td>0</td>\n",
       "      <td>0</td>\n",
       "      <td>N</td>\n",
       "      <td>Y</td>\n",
       "      <td>A Must</td>\n",
       "      <td>I have a 2012-2013 XL and this is very durable...</td>\n",
       "      <td>2015-08-31</td>\n",
       "    </tr>\n",
       "    <tr>\n",
       "      <th>7</th>\n",
       "      <td>US</td>\n",
       "      <td>19676307</td>\n",
       "      <td>R3VNR804HYSMR6</td>\n",
       "      <td>B00BRA9R6A</td>\n",
       "      <td>682267517</td>\n",
       "      <td>Nerf 3DS XL Armor</td>\n",
       "      <td>Video Games</td>\n",
       "      <td>5</td>\n",
       "      <td>0</td>\n",
       "      <td>0</td>\n",
       "      <td>N</td>\n",
       "      <td>Y</td>\n",
       "      <td>Five Stars</td>\n",
       "      <td>Perfect, kids loved them. Great protection for...</td>\n",
       "      <td>2015-08-31</td>\n",
       "    </tr>\n",
       "    <tr>\n",
       "      <th>8</th>\n",
       "      <td>US</td>\n",
       "      <td>224068</td>\n",
       "      <td>R3GZTM72WA2QH</td>\n",
       "      <td>B009EPWJLA</td>\n",
       "      <td>435241890</td>\n",
       "      <td>One Piece: Pirate Warriors / Kaizoku Musou PS3...</td>\n",
       "      <td>Video Games</td>\n",
       "      <td>5</td>\n",
       "      <td>0</td>\n",
       "      <td>0</td>\n",
       "      <td>N</td>\n",
       "      <td>Y</td>\n",
       "      <td>Five Stars</td>\n",
       "      <td>Excelent</td>\n",
       "      <td>2015-08-31</td>\n",
       "    </tr>\n",
       "    <tr>\n",
       "      <th>9</th>\n",
       "      <td>US</td>\n",
       "      <td>48467989</td>\n",
       "      <td>RNQOY62705W1K</td>\n",
       "      <td>B0000AV7GB</td>\n",
       "      <td>256572651</td>\n",
       "      <td>Playstation 2 Dance Pad Revolution 2</td>\n",
       "      <td>Video Games</td>\n",
       "      <td>4</td>\n",
       "      <td>0</td>\n",
       "      <td>0</td>\n",
       "      <td>N</td>\n",
       "      <td>Y</td>\n",
       "      <td>Four Stars</td>\n",
       "      <td>Slippery but expected</td>\n",
       "      <td>2015-08-31</td>\n",
       "    </tr>\n",
       "  </tbody>\n",
       "</table>\n",
       "</div>"
      ],
      "text/plain": [
       "  marketplace  customer_id       review_id  product_id  product_parent  \\\n",
       "0          US     12039526   RTIS3L2M1F5SM  B001CXYMFS       737716809   \n",
       "1          US      9636577   R1ZV7R40OLHKD  B00M920ND6       569686175   \n",
       "2          US      2331478  R3BH071QLH8QMC  B0029CSOD2        98937668   \n",
       "3          US     52495923  R127K9NTSXA2YH  B00GOOSV98        23143350   \n",
       "4          US     14533949  R32ZWUXDJPW27Q  B00Y074JOM       821342511   \n",
       "5          US      2377552  R3AQQ4YUKJWBA6  B002UBI6W6       328764615   \n",
       "6          US     17521011  R2F0POU5K6F73F  B008XHCLFO        24234603   \n",
       "7          US     19676307  R3VNR804HYSMR6  B00BRA9R6A       682267517   \n",
       "8          US       224068   R3GZTM72WA2QH  B009EPWJLA       435241890   \n",
       "9          US     48467989   RNQOY62705W1K  B0000AV7GB       256572651   \n",
       "\n",
       "                                       product_title product_category  \\\n",
       "0         Thrustmaster T-Flight Hotas X Flight Stick      Video Games   \n",
       "1  Tonsee 6 buttons Wireless Optical Silent Gamin...      Video Games   \n",
       "2  Hidden Mysteries: Titanic Secrets of the Fatef...      Video Games   \n",
       "3  GelTabz Performance Thumb Grips - PlayStation ...      Video Games   \n",
       "4  Zero Suit Samus amiibo - Japan Import (Super S...      Video Games   \n",
       "5  Psyclone Recharge Station for Nintendo Wii 4 P...      Video Games   \n",
       "6                         Protection for your 3DS XL      Video Games   \n",
       "7                                  Nerf 3DS XL Armor      Video Games   \n",
       "8  One Piece: Pirate Warriors / Kaizoku Musou PS3...      Video Games   \n",
       "9               Playstation 2 Dance Pad Revolution 2      Video Games   \n",
       "\n",
       "   star_rating  helpful_votes  total_votes vine verified_purchase  \\\n",
       "0            5              0            0    N                 Y   \n",
       "1            5              0            0    N                 Y   \n",
       "2            1              0            1    N                 Y   \n",
       "3            3              0            0    N                 Y   \n",
       "4            4              0            0    N                 Y   \n",
       "5            1              0            0    N                 Y   \n",
       "6            5              0            0    N                 Y   \n",
       "7            5              0            0    N                 Y   \n",
       "8            5              0            0    N                 Y   \n",
       "9            4              0            0    N                 Y   \n",
       "\n",
       "                                     review_headline  \\\n",
       "0  an amazing joystick. I especially love that yo...   \n",
       "1  Definitely a silent mouse... Not a single clic...   \n",
       "2                                           One Star   \n",
       "3                          good, but could be bettee   \n",
       "4                                  Great but flawed.   \n",
       "5                                           One Star   \n",
       "6                                             A Must   \n",
       "7                                         Five Stars   \n",
       "8                                         Five Stars   \n",
       "9                                         Four Stars   \n",
       "\n",
       "                                         review_body review_date  \n",
       "0  Used this for Elite Dangerous on my mac, an am...  2015-08-31  \n",
       "1  Loved it,  I didn't even realise it was a gami...  2015-08-31  \n",
       "2     poor quality work and not as it is advertised.  2015-08-31  \n",
       "3  nice, but tend to slip away from stick in inte...  2015-08-31  \n",
       "4  Great amiibo, great for collecting. Quality ma...  2015-08-31  \n",
       "5  The remote constantly have to be adjusted in o...  2015-08-31  \n",
       "6  I have a 2012-2013 XL and this is very durable...  2015-08-31  \n",
       "7  Perfect, kids loved them. Great protection for...  2015-08-31  \n",
       "8                                           Excelent  2015-08-31  \n",
       "9                              Slippery but expected  2015-08-31  "
      ]
     },
     "execution_count": 4,
     "metadata": {},
     "output_type": "execute_result"
    }
   ],
   "source": [
    "data[:10]"
   ]
  },
  {
   "cell_type": "code",
   "execution_count": 5,
   "metadata": {},
   "outputs": [],
   "source": [
    "data = data.sort_values(by=['review_date'], ascending=False)\n",
    "df = data[['star_rating','review_body']]\n",
    "# drop any rows w/ missing values\n",
    "df = df.dropna()"
   ]
  },
  {
   "cell_type": "code",
   "execution_count": 6,
   "metadata": {},
   "outputs": [],
   "source": [
    "# Function to map stars to sentiment\n",
    "def map_sentiment(stars_received):\n",
    "    if stars_received <= 2:\n",
    "        return -1\n",
    "    elif stars_received == 3:\n",
    "        return 0\n",
    "    else:\n",
    "        return 1\n",
    "    \n",
    "# Mapping stars to sentiment into three categories\n",
    "df['star_rating_v1'] = [ map_sentiment(x) for x in df['star_rating']]"
   ]
  },
  {
   "cell_type": "code",
   "execution_count": 7,
   "metadata": {},
   "outputs": [
    {
     "data": {
      "text/plain": [
       " 1    1340582\n",
       "-1     286178\n",
       " 0     153449\n",
       "Name: star_rating_v1, dtype: int64"
      ]
     },
     "execution_count": 7,
     "metadata": {},
     "output_type": "execute_result"
    }
   ],
   "source": [
    "# discover the actual counts\n",
    "df.star_rating_v1.value_counts()"
   ]
  },
  {
   "cell_type": "code",
   "execution_count": 8,
   "metadata": {},
   "outputs": [
    {
     "data": {
      "image/png": "[encoded data removed]",
      "text/plain": [
       "<Figure size 1440x504 with 1 Axes>"
      ]
     },
     "metadata": {
      "needs_background": "light"
     },
     "output_type": "display_data"
    }
   ],
   "source": [
    "f, axes = plt.subplots(figsize=(20,7))\n",
    "ax = sns.countplot(x=df[\"star_rating_v1\"], palette=\"OrRd_r\")\n",
    "ax.set(title=\"Distribution of Product Ratings\", \\\n",
    "       xlabel=\"Rating\", ylabel=\"Number of Reviews\")\n",
    "plt.show()"
   ]
  },
  {
   "cell_type": "code",
   "execution_count": 9,
   "metadata": {},
   "outputs": [],
   "source": [
    "# set sample size to labels w/ minimum count\n",
    "sample_size = 15000\n",
    "df_equal_overall = pd.DataFrame()\n",
    "for i in df.star_rating_v1.unique():\n",
    "    X = df[df.star_rating_v1 == i].sample(sample_size)\n",
    "    df_equal_overall = df_equal_overall.append(X)"
   ]
  },
  {
   "cell_type": "code",
   "execution_count": 10,
   "metadata": {},
   "outputs": [],
   "source": [
    "stopwords_list = stopwords.words('english')\n",
    "\n",
    "def ReviewProcessing(df):\n",
    "    # remove non alphanumeric \n",
    "    df['review_cleaned'] = df.review_body.str.replace('[^a-zA-Z0-9 ]', '')\n",
    "    \n",
    "    # lowercase\n",
    "    df.review_cleaned = df.review_cleaned.str.lower()\n",
    "    \n",
    "    # split into list\n",
    "    df.review_cleaned = df.review_cleaned.str.split(' ')\n",
    "    \n",
    "    # remove stopwords\n",
    "    df.review_cleaned = df.review_cleaned.apply(lambda x: [item for item in x if item not in stopwords_list])\n",
    "    return df"
   ]
  },
  {
   "cell_type": "code",
   "execution_count": 11,
   "metadata": {},
   "outputs": [],
   "source": [
    "def get_wordnet_pos(word):\n",
    "    tag = nltk.pos_tag([word])[0][1][0].upper()\n",
    "    tag_dict = {\"J\": wordnet.ADJ,\n",
    "                \"N\": wordnet.NOUN,\n",
    "                \"V\": wordnet.VERB,\n",
    "                \"R\": wordnet.ADV}\n",
    "    return tag_dict.get(tag, wordnet.NOUN)\n",
    "\n",
    "lemmatizer = nltk.stem.WordNetLemmatizer()\n",
    "\n",
    "def get_lemmatize(sent):\n",
    "    return \" \".join([lemmatizer.lemmatize(w, get_wordnet_pos(w)) for w in nltk.word_tokenize(sent)])"
   ]
  },
  {
   "cell_type": "code",
   "execution_count": 12,
   "metadata": {},
   "outputs": [],
   "source": [
    "clean_data = ReviewProcessing(df_equal_overall)\n",
    "clean_data.review_cleaned = clean_data.review_cleaned.apply(' '.join)\n",
    "clean_data['review_cleaned_lemmatized'] = clean_data.review_cleaned.apply(get_lemmatize)"
   ]
  },
  {
   "cell_type": "code",
   "execution_count": 13,
   "metadata": {},
   "outputs": [],
   "source": [
    "#dropping rows where review_cleaned_lemmatized is empty string\n",
    "clean_data['review_cleaned_lemmatized'].replace('', np.nan, inplace=True)\n",
    "clean_data.dropna(subset=['review_cleaned_lemmatized'], inplace=True)"
   ]
  },
  {
   "cell_type": "code",
   "execution_count": 14,
   "metadata": {},
   "outputs": [],
   "source": [
    "x = clean_data['review_cleaned_lemmatized']\n",
    "y = clean_data['star_rating_v1']\n",
    "X_train, X_test, y_train, y_test = train_test_split(x, y, \n",
    "                                                    test_size=0.2, stratify=y, random_state = 44)\n",
    "X_train, X_val, y_train, y_val = train_test_split(X_train, y_train, test_size=0.25, stratify=y_train, random_state=44) \n",
    "#0.25 x 0.8 = 0.2"
   ]
  },
  {
   "cell_type": "code",
   "execution_count": 15,
   "metadata": {},
   "outputs": [],
   "source": [
    "# Multinomial Naive Bayes Classifier\n",
    "from sklearn.naive_bayes import MultinomialNB\n",
    "\n",
    "nb = Pipeline([('vectorize', CountVectorizer(ngram_range=(1, 2))),\n",
    "               ('tfidf', TfidfTransformer()),\n",
    "               ('clf', MultinomialNB()),\n",
    "              ])"
   ]
  },
  {
   "cell_type": "code",
   "execution_count": 16,
   "metadata": {},
   "outputs": [
    {
     "name": "stdout",
     "output_type": "stream",
     "text": [
      "Training Set Accuracy: 89.786%\n",
      "Validation Set Accuracy: 62.462%\n",
      "Training Set F1 Score: 0.898\n",
      "Validation Set F1 Score: 0.625\n"
     ]
    }
   ],
   "source": [
    "nb.fit(X_train, y_train)\n",
    "\n",
    "y_train_pred_nb = nb.predict(X_train)\n",
    "y_val_pred_nb = nb.predict(X_val)\n",
    "\n",
    "print(f\"Training Set Accuracy: {accuracy_score(y_train, y_train_pred_nb)*100:.3f}%\")\n",
    "print(f\"Validation Set Accuracy: {accuracy_score(y_val, y_val_pred_nb)*100:.3f}%\")\n",
    "\n",
    "print(f\"Training Set F1 Score: {f1_score(y_train, y_train_pred_nb, average='micro'):.3f}\")\n",
    "print(f\"Validation Set F1 Score: {f1_score(y_val, y_val_pred_nb, average='micro'):.3f}\")"
   ]
  },
  {
   "cell_type": "code",
   "execution_count": 17,
   "metadata": {},
   "outputs": [],
   "source": [
    "# SGD Classifier\n",
    "from sklearn.linear_model import SGDClassifier\n",
    "\n",
    "sgd = Pipeline([('vect', CountVectorizer(ngram_range=(1, 2))),\n",
    "                ('tfidf', TfidfTransformer()),\n",
    "                ('clf', SGDClassifier()),\n",
    "               ])"
   ]
  },
  {
   "cell_type": "code",
   "execution_count": 18,
   "metadata": {},
   "outputs": [
    {
     "name": "stdout",
     "output_type": "stream",
     "text": [
      "Training Set Accuracy: 88.974%\n",
      "Validation Set Accuracy: 68.001%\n",
      "Training Set F1 Score: 0.890\n",
      "Validation Set F1 Score: 0.680\n"
     ]
    }
   ],
   "source": [
    "sgd.fit(X_train, y_train)\n",
    "\n",
    "y_train_pred_sgd = sgd.predict(X_train)\n",
    "y_val_pred_sgd = sgd.predict(X_val)\n",
    "\n",
    "print(f\"Training Set Accuracy: {accuracy_score(y_train, y_train_pred_sgd)*100:.3f}%\")\n",
    "print(f\"Validation Set Accuracy: {accuracy_score(y_val, y_val_pred_sgd)*100:.3f}%\")\n",
    "\n",
    "print(f\"Training Set F1 Score: {f1_score(y_train, y_train_pred_sgd, average='micro'):.3f}\")\n",
    "print(f\"Validation Set F1 Score: {f1_score(y_val, y_val_pred_sgd, average='micro'):.3f}\")"
   ]
  },
  {
   "cell_type": "code",
   "execution_count": 19,
   "metadata": {},
   "outputs": [],
   "source": [
    "#random forest classifier\n",
    "from sklearn.ensemble import RandomForestClassifier\n",
    "\n",
    "rnd = Pipeline([('vect', CountVectorizer(ngram_range=(1, 2))),\n",
    "                ('tfidf', TfidfTransformer()),\n",
    "                ('clf', RandomForestClassifier(random_state=42, n_estimators=10)),\n",
    "               ])"
   ]
  },
  {
   "cell_type": "code",
   "execution_count": 20,
   "metadata": {},
   "outputs": [
    {
     "name": "stdout",
     "output_type": "stream",
     "text": [
      "Training Set Accuracy: 98.398%\n",
      "Validation Set Accuracy: 55.689%\n",
      "Training Set F1 Score: 0.984\n",
      "Validation Set F1 Score: 0.557\n"
     ]
    }
   ],
   "source": [
    "rnd.fit(X_train, y_train)\n",
    "\n",
    "y_train_pred_rnd = rnd.predict(X_train)\n",
    "y_val_pred_rnd = rnd.predict(X_val)\n",
    "\n",
    "print(f\"Training Set Accuracy: {accuracy_score(y_train, y_train_pred_rnd)*100:.3f}%\")\n",
    "print(f\"Validation Set Accuracy: {accuracy_score(y_val, y_val_pred_rnd)*100:.3f}%\")\n",
    "\n",
    "print(f\"Training Set F1 Score: {f1_score(y_train, y_train_pred_rnd, average='micro'):.3f}\")\n",
    "print(f\"Validation Set F1 Score: {f1_score(y_val, y_val_pred_rnd, average='micro'):.3f}\")"
   ]
  },
  {
   "cell_type": "code",
   "execution_count": 21,
   "metadata": {},
   "outputs": [],
   "source": [
    "# Logistic Regression\n",
    "from sklearn.linear_model import LogisticRegression\n",
    "\n",
    "logreg = Pipeline([('vect', CountVectorizer(ngram_range=(1, 2))),\n",
    "                ('tfidf', TfidfTransformer()),\n",
    "                ('clf', LogisticRegression(max_iter=500)),\n",
    "               ])"
   ]
  },
  {
   "cell_type": "code",
   "execution_count": 22,
   "metadata": {},
   "outputs": [
    {
     "name": "stdout",
     "output_type": "stream",
     "text": [
      "Training Set Accuracy: 92.470%\n",
      "Validation Set Accuracy: 68.101%\n",
      "Training Set F1 Score: 0.925\n",
      "Validation Set F1 Score: 0.681\n"
     ]
    }
   ],
   "source": [
    "logreg.fit(X_train, y_train)\n",
    "\n",
    "y_train_pred_log = logreg.predict(X_train)\n",
    "y_val_pred_log = logreg.predict(X_val)\n",
    "\n",
    "\n",
    "print(f\"Training Set Accuracy: {accuracy_score(y_train, y_train_pred_log)*100:.3f}%\")\n",
    "print(f\"Validation Set Accuracy: {accuracy_score(y_val, y_val_pred_log)*100:.3f}%\")\n",
    "\n",
    "print(f\"Training Set F1 Score: {f1_score(y_train, y_train_pred_log, average='micro'):.3f}\")\n",
    "print(f\"Validation Set F1 Score: {f1_score(y_val, y_val_pred_log, average='micro'):.3f}\")"
   ]
  },
  {
   "cell_type": "code",
   "execution_count": 23,
   "metadata": {},
   "outputs": [],
   "source": [
    "# Linear support vector classifier\n",
    "from sklearn.svm import SVC\n",
    "\n",
    "svc = Pipeline([('vect', CountVectorizer(ngram_range=(1, 2))),\n",
    "                ('tfidf', TfidfTransformer()),\n",
    "                ('clf', SVC()),\n",
    "               ])"
   ]
  },
  {
   "cell_type": "code",
   "execution_count": 24,
   "metadata": {
    "scrolled": true
   },
   "outputs": [
    {
     "name": "stdout",
     "output_type": "stream",
     "text": [
      "Training Set Accuracy: 98.402%\n",
      "Validation Set Accuracy: 67.990%\n",
      "Training Set F1 Score: 0.984\n",
      "Validation Set F1 Score: 0.680\n"
     ]
    }
   ],
   "source": [
    "svc.fit(X_train, y_train)\n",
    "\n",
    "y_train_pred_svc = svc.predict(X_train)\n",
    "y_val_pred_svc = svc.predict(X_val)\n",
    "\n",
    "print(f\"Training Set Accuracy: {accuracy_score(y_train, y_train_pred_svc)*100:.3f}%\")\n",
    "print(f\"Validation Set Accuracy: {accuracy_score(y_val, y_val_pred_svc)*100:.3f}%\")\n",
    "\n",
    "print(f\"Training Set F1 Score: {f1_score(y_train, y_train_pred_svc, average='micro'):.3f}\")\n",
    "print(f\"Validation Set F1 Score: {f1_score(y_val, y_val_pred_svc, average='micro'):.3f}\")"
   ]
  },
  {
   "cell_type": "code",
   "execution_count": 25,
   "metadata": {},
   "outputs": [
    {
     "data": {
      "image/png": "[encoded data removed]",
      "text/plain": [
       "<Figure size 720x720 with 3 Axes>"
      ]
     },
     "metadata": {
      "needs_background": "light"
     },
     "output_type": "display_data"
    },
    {
     "data": {
      "image/png": "[encoded data removed]",
      "text/plain": [
       "<Figure size 432x720 with 2 Axes>"
      ]
     },
     "metadata": {
      "needs_background": "light"
     },
     "output_type": "display_data"
    }
   ],
   "source": [
    "def plot_confusion_matrix(cm, classes, ax, normalize=False, title='Confusion Matrix', cmap=plt.cm.Blues, set_y_label = True):\n",
    "    if normalize:\n",
    "        cm = cm.astype('float') / cm.sum(axis=1)[:, np.newaxis]\n",
    "    ax.imshow(cm, interpolation='nearest', cmap=cmap)\n",
    "\n",
    "    # Add the labels\n",
    "    fmt = '.2f' if normalize else 'd'\n",
    "    thresh = cm.max() / 2.\n",
    "    for i, j in itertools.product(range(cm.shape[0]), range(cm.shape[1])):\n",
    "        ax.text(j, i, format(cm[i, j], fmt),\n",
    "                 horizontalalignment=\"center\",\n",
    "                 color=\"white\" if cm[i, j] > thresh else \"black\")\n",
    "\n",
    "    ax.set(yticks=[0,1,2], \n",
    "            xticks=[0, 1, 2], \n",
    "           yticklabels=classes, \n",
    "           xticklabels=classes)\n",
    "    #ax.yaxis.set_major_locator(matplotlib.ticker.IndexLocator(base=1, offset=0.5))\n",
    "    if title:\n",
    "        ax.set_title(title)\n",
    "    if(set_y_label):\n",
    "      ax.set_ylabel('Ground truth label')\n",
    "    ax.set_xlabel('Predicted label')\n",
    "    \n",
    "fig, ax = plt.subplots(ncols=3, nrows=1, figsize=(10, 10))\n",
    "\n",
    "plot_confusion_matrix(confusion_matrix(y_val, y_val_pred_nb), (\"-1\",\"0\", \"1\"), \n",
    "                      ax[0], normalize=True, title = 'Multinomial Naive Bayes')\n",
    "plot_confusion_matrix(confusion_matrix(y_val, y_val_pred_sgd), (\"-1\",\"0\", \"1\"), \n",
    "                      ax[1], normalize=True, title = 'Stochastic Gradient Descent',set_y_label = False)\n",
    "plot_confusion_matrix(confusion_matrix(y_val, y_val_pred_rnd), (\"-1\",\"0\", \"1\"), \n",
    "                      ax[2], normalize=True, title = 'Random Forest',set_y_label = False)\n",
    "\n",
    "\n",
    "fig, ax = plt.subplots(ncols=2, nrows=1, figsize=(6, 10))\n",
    "\n",
    "plot_confusion_matrix(confusion_matrix(y_val, y_val_pred_log), (\"-1\",\"0\", \"1\"), \n",
    "                      ax[0], normalize=True, title = 'Logistic Regression')\n",
    "plot_confusion_matrix(confusion_matrix(y_val, y_val_pred_svc), (\"-1\",\"0\", \"1\"), \n",
    "                      ax[1], normalize=True, title = 'Linear support Vector machine',set_y_label = False)\n"
   ]
  },
  {
   "cell_type": "code",
   "execution_count": 26,
   "metadata": {},
   "outputs": [
    {
     "name": "stdout",
     "output_type": "stream",
     "text": [
      "Best hyperparameters: {'clf__C': 1, 'clf__penalty': 'l2', 'clf__solver': 'saga'}\n",
      "Best score: 0.674\n"
     ]
    }
   ],
   "source": [
    "#hyper parameter tuning on best model - Logistic Regression\n",
    "from sklearn.model_selection import GridSearchCV\n",
    "\n",
    "grid=[{'clf__solver': ['lbfgs', 'sag', 'saga'],\n",
    "       'clf__C': [0.01, 0.1, 1],\n",
    "       'clf__penalty' : ['l1', 'l2', 'elasticnet', None]}]\n",
    "lr = GridSearchCV(estimator=logreg, param_grid = grid, scoring='accuracy')\n",
    "best_model = lr.fit(X_train, y_train)\n",
    "\n",
    "print(\"Best hyperparameters:\", lr.best_params_)\n",
    "print(\"Best score: {:.3f}\".format(lr.best_score_))\n",
    "\n",
    "# set hyperparameters\n",
    "C_best = lr.best_params_[\"clf__C\"]\n",
    "clf__penalty_best = lr.best_params_[\"clf__penalty\"]\n",
    "clf__solver_best = lr.best_params_[\"clf__solver\"]"
   ]
  },
  {
   "cell_type": "code",
   "execution_count": 34,
   "metadata": {},
   "outputs": [
    {
     "name": "stdout",
     "output_type": "stream",
     "text": [
      "Training Set Accuracy: 92.232%\n",
      "Validation Set Accuracy: 68.268%\n",
      "Training Set F1 Score: 0.922\n",
      "Validation Set F1 Score: 0.683\n"
     ]
    }
   ],
   "source": [
    "# train model\n",
    "logreg = Pipeline([('vect', CountVectorizer(ngram_range=(1, 2))),\n",
    "                ('tfidf', TfidfTransformer()),\n",
    "                ('clf', LogisticRegression(max_iter=500,C = C_best, penalty = clf__penalty_best, solver = clf__solver_best)),\n",
    "               ])\n",
    "logreg.fit(X_train, y_train)\n",
    "\n",
    "y_train_pred_grid = logreg.predict(X_train)\n",
    "y_val_pred_grid = logreg.predict(X_val)\n",
    "\n",
    "print(f\"Training Set Accuracy: {accuracy_score(y_train, y_train_pred_grid)*100:.3f}%\")\n",
    "print(f\"Validation Set Accuracy: {accuracy_score(y_val, y_val_pred_grid)*100:.3f}%\")\n",
    "\n",
    "print(f\"Training Set F1 Score: {f1_score(y_train, y_train_pred_grid, average='micro'):.3f}\")\n",
    "print(f\"Validation Set F1 Score: {f1_score(y_val, y_val_pred_grid, average='micro'):.3f}\")"
   ]
  },
  {
   "cell_type": "code",
   "execution_count": null,
   "metadata": {},
   "outputs": [],
   "source": [
    "grid=[{'clf__C': [0.01, 0.1, 1],\n",
    "       'clf__kernel': ['rbf', 'poly']}]\n",
    "svc_grid = GridSearchCV(svc, param_grid = grid, scoring='accuracy')\n",
    "best_model_svc = svc_grid.fit(X_train, y_train)\n",
    "\n",
    "# show results\n",
    "print(\"Best hyperparameters:\", svc_grid.best_params_)\n",
    "print(\"Best score: {:.3f}\".format(svc_grid.best_score_))\n",
    "\n",
    "# set hyperparameters\n",
    "C_best = svc_grid.best_params_[\"clf__C\"]\n",
    "clf__kernel_best = svc_grid.best_params_[\"clf__kernel\"]"
   ]
  },
  {
   "cell_type": "code",
   "execution_count": null,
   "metadata": {},
   "outputs": [],
   "source": [
    "svc = Pipeline([('vect', CountVectorizer(ngram_range=(1, 2))),\n",
    "                ('tfidf', TfidfTransformer()),\n",
    "                ('clf', SVC(C = C_best, gamma = clf__kernel_best)),\n",
    "               ])\n",
    "\n",
    "\n",
    "y_train_pred_grid_svc = svc.predict(X_train)\n",
    "y_val_pred_grid_svc = svc.predict(X_val)\n",
    "\n",
    "print(f\"Training Set Accuracy: {accuracy_score(y_train, y_train_pred_grid_svc)*100:.3f}%\")\n",
    "print(f\"Validation Set Accuracy: {accuracy_score(y_val, y_val_pred_grid_svc)*100:.3f}%\")\n",
    "\n",
    "print(f\"Training Set F1 Score: {f1_score(y_train, y_train_pred_grid_svc, average='micro'):.3f}\")\n",
    "print(f\"Validation Set F1 Score: {f1_score(y_val, y_val_pred_grid_svc, average='micro'):.3f}\")"
   ]
  },
  {
   "cell_type": "markdown",
   "metadata": {},
   "source": [
    "# Experimenting with glove"
   ]
  },
  {
   "cell_type": "code",
   "execution_count": 31,
   "metadata": {},
   "outputs": [],
   "source": [
    "import importlib\n",
    "\n",
    "if importlib.util.find_spec('flair') is None:\n",
    "    !pip install flair==0.10\n",
    "\n",
    "\n",
    "import flair\n",
    "from flair.embeddings import WordEmbeddings, DocumentPoolEmbeddings\n",
    "from flair.data import Sentence\n",
    "\n",
    "glove_embeddings = WordEmbeddings('glove')"
   ]
  },
  {
   "cell_type": "code",
   "execution_count": 32,
   "metadata": {},
   "outputs": [],
   "source": [
    "# initialize the document embeddings, mode = mean\n",
    "document_embeddings = DocumentPoolEmbeddings([glove_embeddings])\n",
    "\n",
    "feature_vector = np.zeros((len(clean_data),100))\n",
    "for i,text in enumerate(clean_data['review_cleaned_lemmatized']):\n",
    "    sentence_glove = Sentence(text)\n",
    "    document_embeddings.embed(sentence_glove)\n",
    "    feature_vector[i] = np.array(sentence_glove.embedding)"
   ]
  },
  {
   "cell_type": "code",
   "execution_count": 33,
   "metadata": {},
   "outputs": [],
   "source": [
    "x = feature_vector\n",
    "y = clean_data['star_rating_v1']\n",
    "X_train, X_test, y_train, y_test = train_test_split(x, y, \n",
    "                                                    test_size=0.2, stratify=y, random_state = 44)\n",
    "X_train, X_val, y_train, y_val = train_test_split(X_train, y_train, test_size=0.25, stratify=y_train, random_state=44) \n",
    "#0.25 x 0.8 = 0.2"
   ]
  },
  {
   "cell_type": "code",
   "execution_count": 34,
   "metadata": {},
   "outputs": [],
   "source": [
    "# Logistic Regression\n",
    "from sklearn.linear_model import LogisticRegression\n",
    "\n",
    "logreg = Pipeline([\n",
    "                ('clf', LogisticRegression(max_iter=500)),\n",
    "               ])"
   ]
  },
  {
   "cell_type": "code",
   "execution_count": 35,
   "metadata": {},
   "outputs": [
    {
     "name": "stdout",
     "output_type": "stream",
     "text": [
      "Training Set Accuracy: 60.108%\n",
      "Test Set Accuracy: 58.870%\n",
      "Training Set F1 Score: 0.601\n",
      "Test Set F1 Score: 0.589\n"
     ]
    }
   ],
   "source": [
    "logreg.fit(X_train, y_train)\n",
    "\n",
    "y_train_pred_log = logreg.predict(X_train)\n",
    "y_val_pred_log = logreg.predict(X_val)\n",
    "\n",
    "\n",
    "print(f\"Training Set Accuracy: {accuracy_score(y_train, y_train_pred_log)*100:.3f}%\")\n",
    "print(f\"Test Set Accuracy: {accuracy_score(y_val, y_val_pred_log)*100:.3f}%\")\n",
    "\n",
    "print(f\"Training Set F1 Score: {f1_score(y_train, y_train_pred_log, average='micro'):.3f}\")\n",
    "print(f\"Test Set F1 Score: {f1_score(y_val, y_val_pred_log, average='micro'):.3f}\")\n"
   ]
  },
  {
   "cell_type": "code",
   "execution_count": null,
   "metadata": {},
   "outputs": [],
   "source": []
  }
 ],
 "metadata": {
  "kernelspec": {
   "display_name": "Python 3 (ipykernel)",
   "language": "python",
   "name": "python3"
  },
  "language_info": {
   "codemirror_mode": {
    "name": "ipython",
    "version": 3
   },
   "file_extension": ".py",
   "mimetype": "text/x-python",
   "name": "python",
   "nbconvert_exporter": "python",
   "pygments_lexer": "ipython3",
   "version": "3.9.12"
  }
 },
 "nbformat": 4,
 "nbformat_minor": 2
}
